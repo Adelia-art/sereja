{
 "cells": [
  {
   "cell_type": "code",
   "execution_count": 1,
   "id": "8d7c57f4",
   "metadata": {},
   "outputs": [
    {
     "name": "stdout",
     "output_type": "stream",
     "text": [
      "15\n"
     ]
    }
   ],
   "source": [
    "#19\n",
    "def f(i, j, p):\n",
    "    if i+j>=63 and p==3:\n",
    "        return True\n",
    "    else:\n",
    "        if i+j<63 and p==3:\n",
    "            return False\n",
    "    return f(i+1, j, p+1) or f(i, j+1, p+1) or f(2*i, j, p+1) or f(i, 2*j, p+1)\n",
    "for s in range(1, 51):\n",
    "    if f(5, s, 1)==True:\n",
    "        print(s)\n",
    "        break\n",
    "        \n",
    "    "
   ]
  },
  {
   "cell_type": "code",
   "execution_count": 4,
   "id": "2b106127",
   "metadata": {},
   "outputs": [
    {
     "name": "stdout",
     "output_type": "stream",
     "text": [
      "26\n",
      "28\n"
     ]
    }
   ],
   "source": [
    "#20\n",
    "def f(i, j, p):\n",
    "    if i+j>=63 and p==4:\n",
    "        return True\n",
    "    else:\n",
    "        if i+j<63 and p==4:\n",
    "            return False\n",
    "        else: \n",
    "            if i+j>=63:\n",
    "                return False\n",
    "    if(p%2==1):\n",
    "        return f(i+1, j, p+1) or f(i, j+1, p+1) or f(2*i, j, p+1) or f(i, 2*j, p+1)\n",
    "    else:\n",
    "        return f(i+1, j, p+1) and f(i, j+1, p+1) and f(2*i, j, p+1) and f(i, 2*j, p+1)\n",
    "        \n",
    "for s in range(1, 51):\n",
    "    if f(5, s, 1)==True:\n",
    "        print(s)\n",
    "        "
   ]
  },
  {
   "cell_type": "code",
   "execution_count": 15,
   "id": "b126a72d",
   "metadata": {},
   "outputs": [
    {
     "name": "stdout",
     "output_type": "stream",
     "text": [
      "25\n",
      "27\n"
     ]
    }
   ],
   "source": [
    "#21\n",
    "def f(i, j, p):\n",
    "    if i+j>=63 and(p==5 or p==3):\n",
    "        return True\n",
    "    else:\n",
    "        if i+j<63 and p==5:\n",
    "            return False\n",
    "        else: \n",
    "            if i+j>=63:\n",
    "                return False\n",
    "    if(p%2==0):\n",
    "        return f(i+1, j, p+1) or f(i, j+1, p+1) or f(2*i, j, p+1) or f(i, 2*j, p+1)\n",
    "    else:\n",
    "        return f(i+1, j, p+1) and f(i, j+1, p+1) and f(2*i, j, p+1) and f(i, 2*j, p+1)\n",
    "\n",
    "def f1(i, j, p):\n",
    "    if i+j>=63 and (p==3):\n",
    "        return True\n",
    "    else:\n",
    "        if i+j<63 and p==3:\n",
    "            return False\n",
    "        else:\n",
    "            if i+j>=63:\n",
    "                return False\n",
    "    if(p%2==0):\n",
    "        return f1(i+1, j, p+1) or f1(i, j+1, p+1) or f1(2*i, j, p+1) or f1(i, 2*j, p+1)\n",
    "    else:\n",
    "        return f1(i+1, j, p+1) and f1(i, j+1, p+1) and f1(2*i, j, p+1) and f1(i, 2*j, p+1)\n",
    "        \n",
    "        \n",
    "for s in range(1, 51):\n",
    "    if f(5, s, 1)==True:\n",
    "        print(s)\n",
    "for s in range(1, 51):\n",
    "    if f1(5, s, 1 )==True:\n",
    "        print('You do not need it', s)\n"
   ]
  },
  {
   "cell_type": "code",
   "execution_count": null,
   "id": "629e25ff",
   "metadata": {},
   "outputs": [],
   "source": []
  }
 ],
 "metadata": {
  "kernelspec": {
   "display_name": "Python 3",
   "language": "python",
   "name": "python3"
  },
  "language_info": {
   "codemirror_mode": {
    "name": "ipython",
    "version": 3
   },
   "file_extension": ".py",
   "mimetype": "text/x-python",
   "name": "python",
   "nbconvert_exporter": "python",
   "pygments_lexer": "ipython3",
   "version": "3.9.5"
  }
 },
 "nbformat": 4,
 "nbformat_minor": 5
}
