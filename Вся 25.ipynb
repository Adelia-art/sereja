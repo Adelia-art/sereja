{
 "cells": [
  {
   "cell_type": "markdown",
   "id": "bc477d66",
   "metadata": {},
   "source": [
    "# Задача 25"
   ]
  },
  {
   "cell_type": "markdown",
   "id": "81ce9c4a",
   "metadata": {},
   "source": [
    "1.Напишите программу, которая ищет среди целых чисел, принадлежащих числовому отрезку [174457; 174505], числа, имеющие ровно два различных натуральных делителя, не считая единицы и самого числа. Для каждого найденного числа запишите эти два делителя в два соседних столбца на экране с новой строки в порядке возрастания произведения этих двух делителей. Делители в строке также должны следовать в порядке возрастания."
   ]
  },
  {
   "cell_type": "code",
   "execution_count": 25,
   "id": "8ec1cb25",
   "metadata": {},
   "outputs": [
    {
     "name": "stdout",
     "output_type": "stream",
     "text": [
      "3 58153\n",
      "7 24923\n",
      "59 2957\n",
      "13 13421\n",
      "149 1171\n",
      "5 34897\n",
      "211 827\n",
      "2 87251\n"
     ]
    }
   ],
   "source": [
    "prodi=1\n",
    "prod=[]\n",
    "delit=[]\n",
    "count=0\n",
    "for i in range(174457, 174506):\n",
    "    for j in range(2, i):\n",
    "        if(i%j==0):\n",
    "            count+=1\n",
    "    if count==2:\n",
    "        for j in range(2, i-1):\n",
    "            if(i%j==0):\n",
    "                prodi=prodi*j\n",
    "                delit.append(j)\n",
    "        prod.append(prodi)\n",
    "    count=0\n",
    "    prodi=1\n",
    "for j in range(0, len(prod)):\n",
    "    for i in range(0,len(delit), 2):\n",
    "        if(delit[i]*delit[i+1]==prod[j]):\n",
    "            print(delit[i], delit[i+1])         "
   ]
  },
  {
   "cell_type": "markdown",
   "id": "70fbd55e",
   "metadata": {},
   "source": [
    "2. Напишите программу, которая ищет среди целых чисел, принадлежащих числовому отрезку [245 690; 245 756] простые числа. Выведите на экран все найденные простые числа в порядке возрастания, слева от каждого числа выведите его порядковый номер в последовательности. Каждая пара чисел должна быть выведена в отдельной строке."
   ]
  },
  {
   "cell_type": "code",
   "execution_count": 32,
   "id": "6d5e863f",
   "metadata": {},
   "outputs": [
    {
     "name": "stdout",
     "output_type": "stream",
     "text": [
      "22 245711\n",
      "30 245719\n",
      "34 245723\n",
      "52 245741\n",
      "58 245747\n",
      "64 245753\n"
     ]
    }
   ],
   "source": [
    "count=0\n",
    "count1=0\n",
    "for i in range(245690,245756):\n",
    "    count1+=1\n",
    "    for j in range(1,i+1):\n",
    "        if(i%j==0):\n",
    "            count+=1\n",
    "    if count==2:\n",
    "        print(count1, i)\n",
    "    count=0"
   ]
  },
  {
   "cell_type": "markdown",
   "id": "6beefb54",
   "metadata": {},
   "source": [
    "3.Напишите программу, которая ищет среди целых чисел, принадлежащих числовому отрезку [110203; 110245], числа, имеющие ровно четыре различных чётных натуральных делителя. Для каждого найденного числа запишите эти четыре делителя в четыре соседних столбца на экране с новой строки. Делители в строке должны следовать в порядке возрастания."
   ]
  },
  {
   "cell_type": "code",
   "execution_count": 38,
   "id": "f1331cb4",
   "metadata": {},
   "outputs": [
    {
     "name": "stdout",
     "output_type": "stream",
     "text": [
      "2 4 55102 110204\n",
      "2 14 15746 110222\n",
      "2 6 36742 110226\n",
      "2 22 10022 110242\n"
     ]
    }
   ],
   "source": [
    "count=0\n",
    "delit=[]\n",
    "for i in range(110203,110246):\n",
    "    count1+=1\n",
    "    for j in range(1,i+1):\n",
    "        if(i%j==0 and j%2==0):\n",
    "            count+=1\n",
    "            delit.append(j)\n",
    "    if count==4:\n",
    "        print(delit[0], delit[1], delit[2], delit[3])\n",
    "    delit=[]\n",
    "    count=0"
   ]
  },
  {
   "cell_type": "markdown",
   "id": "837e8389",
   "metadata": {},
   "source": [
    "4. Напишите программу, которая ищет среди целых чисел, принадлежащих числовому отрезку [84052; 84130], число, имеющее максимальное количество различных натуральных делителей, если таких чисел несколько — найдите минимальное из них. Выведите на экран количество делителей такого числа и само число."
   ]
  },
  {
   "cell_type": "code",
   "execution_count": 2,
   "id": "077748c9",
   "metadata": {},
   "outputs": [
    {
     "name": "stdout",
     "output_type": "stream",
     "text": [
      "72 84084\n"
     ]
    }
   ],
   "source": [
    "count=0\n",
    "maxim=0\n",
    "for i in range(84052,84131):\n",
    "    for j in range(1,i+1):\n",
    "        if(i%j==0):\n",
    "            count+=1\n",
    "    if count>maxim:\n",
    "        maxim=count\n",
    "    count=0\n",
    "for i in range(84052,84131):\n",
    "    for j in range(1,i+1):\n",
    "        if(i%j==0):\n",
    "            count+=1\n",
    "    if(count==maxim):\n",
    "        print(count,i)\n",
    "    count=0\n",
    "        \n"
   ]
  },
  {
   "cell_type": "markdown",
   "id": "2b96c0f3",
   "metadata": {},
   "source": [
    "5. Назовём нетривиальным делителем натурального числа его делитель, не равный единице и самому числу. Например, у числа 6 есть два нетривиальных делителя: 2 и 3. Найдите все натуральные числа, принадлежащие отрезку [123456789; 223456789] и имеющие ровно три нетривиальных делителя. Для каждого найденного числа запишите в ответе его наибольший нетривиальный делитель. Ответы расположите в порядке возрастания."
   ]
  },
  {
   "cell_type": "code",
   "execution_count": 15,
   "id": "fc71dc4c",
   "metadata": {},
   "outputs": [
    {
     "name": "stdout",
     "output_type": "stream",
     "text": [
      "131079601 1225043\n",
      "141158161 1295029\n",
      "163047361 1442897\n"
     ]
    }
   ],
   "source": [
    "count=1\n",
    "max_del=1\n",
    "for i in range(123456789, 223456790):\n",
    "    if(round(i**0.5)==i**0.5):\n",
    "        for j in range(2, int(i**0.5)):\n",
    "            if(i%j==0):\n",
    "                if(max_del==1):\n",
    "                    max_del=int(i/j)\n",
    "                count+=2\n",
    "        if count==3:\n",
    "            print(i, max_del)           \n",
    "    count=1\n",
    "    max_del=1"
   ]
  },
  {
   "cell_type": "markdown",
   "id": "4640ede7",
   "metadata": {},
   "source": [
    "6.Найдите все натуральные числа, принадлежащие отрезку [35 000 000; 40 000 000], у которых ровно пять различных нечётных делителей (количество чётных делителей может быть любым). В ответе перечислите найденные числа в порядке возрастания."
   ]
  },
  {
   "cell_type": "code",
   "execution_count": 1,
   "id": "88e5bbea",
   "metadata": {},
   "outputs": [
    {
     "name": "stdout",
     "output_type": "stream",
     "text": [
      "35819648\n",
      "38950081\n",
      "39037448\n",
      "39337984\n"
     ]
    }
   ],
   "source": [
    "count=0\n",
    "for i in range(35000000, 40000000):\n",
    "    for j in range(1, int(round(i**0.5))+1):\n",
    "        if(i%j==0):\n",
    "            if(j%2==1):\n",
    "                count+=1\n",
    "            k=i/j\n",
    "            if(k%2==1):\n",
    "                count+=1\n",
    "                if j==k:\n",
    "                    count=count-1\n",
    "        if(count>5):\n",
    "            count=0\n",
    "            break\n",
    "    if count==5:\n",
    "        print(i)           \n",
    "    count=0"
   ]
  },
  {
   "cell_type": "markdown",
   "id": "e3494395",
   "metadata": {},
   "source": [
    "7. Найдите все натуральные числа N, принадлежащие отрезку [200 000 000; 400 000 000], которые можно представить в виде N = $2^m$ · $3^n$, где m — чётное число, n — нечётное число. В ответе запишите все найденные числа в порядке возрастания."
   ]
  },
  {
   "cell_type": "code",
   "execution_count": 5,
   "id": "ae2c926a",
   "metadata": {},
   "outputs": [
    {
     "name": "stdout",
     "output_type": "stream",
     "text": [
      "229582512\n",
      "322486272\n",
      "254803968\n",
      "201326592\n"
     ]
    }
   ],
   "source": [
    "first=[]\n",
    "second=[]\n",
    "for i in range(0, 101):\n",
    "    if(i%2==0):\n",
    "        first.append(2**i)\n",
    "    else:\n",
    "        second.append(3**i)\n",
    "for i in range(0, len(first)):\n",
    "    for j in range(0, len(second)):\n",
    "        if(200000000<=first[i]*second[j]<=400000000):\n",
    "            print(first[i]*second[j])\n"
   ]
  },
  {
   "cell_type": "markdown",
   "id": "058e5960",
   "metadata": {},
   "source": [
    "8. Пусть M — сумма минимального и максимального натуральных делителей целого числа, не считая единицы и самого числа. Если таких делителей у числа нет, то считаем значение M равным нулю.\n",
    "\n",
    "Напишите программу, которая перебирает целые числа, большие 452 021, в порядке возрастания и ищет среди них такие, для которых значение M при делении на 7 даёт в остатке 3. Вывести первые 5 найденных чисел и соответствующие им значения M."
   ]
  },
  {
   "cell_type": "code",
   "execution_count": 9,
   "id": "443088fb",
   "metadata": {},
   "outputs": [
    {
     "name": "stdout",
     "output_type": "stream",
     "text": [
      "452025 150678\n",
      "452029 23810\n",
      "452034 226019\n",
      "452048 226026\n",
      "452062 226033\n"
     ]
    }
   ],
   "source": [
    "summa=0\n",
    "delit=[]\n",
    "count=0\n",
    "start=452022\n",
    "while(count<5):\n",
    "    for i in range(2, start):\n",
    "        if(start%i==0):\n",
    "            delit.append(i)\n",
    "    if len(delit)>0:\n",
    "        delit=sorted(delit)\n",
    "        summa=delit[0]+delit[len(delit)-1]\n",
    "        if(summa%7==3):\n",
    "            count+=1\n",
    "            print(start, summa)\n",
    "    delit=[]\n",
    "    start+=1"
   ]
  },
  {
   "cell_type": "markdown",
   "id": "8e52ab70",
   "metadata": {},
   "source": [
    "9.Рассмотрим произвольное натуральное число, представим его всеми возможными способами в виде произведения двух натуральных чисел и найдём для каждого такого произведения разность сомножителей. Например, для числа 16 получим: 16 = 16*1 = 8*2 = 4*4, множество разностей содержит числа 15, 6 и 0. Найдите все натуральные числа, принадлежащие отрезку [1 000 000; 2 000 000], у которых составленное описанным способом множество разностей будет содержать не меньше трёх элементов, не превышающих 100. В ответе перечислите найденные числа в порядке возрастания."
   ]
  },
  {
   "cell_type": "code",
   "execution_count": 16,
   "id": "5488b55b",
   "metadata": {},
   "outputs": [
    {
     "name": "stdout",
     "output_type": "stream",
     "text": [
      "1113840\n",
      "1179360\n",
      "1208844\n"
     ]
    }
   ],
   "source": [
    "count=0\n",
    "for i in range(1000000, 2000001):\n",
    "    for j in range(1, round(i**0.5)):\n",
    "        if(i%j==0):\n",
    "            if(i//j-j<=100):\n",
    "                 count+=1\n",
    "    if(count>=3):\n",
    "        print(i)\n",
    "    count=0"
   ]
  },
  {
   "cell_type": "code",
   "execution_count": null,
   "id": "342d5476",
   "metadata": {},
   "outputs": [],
   "source": []
  }
 ],
 "metadata": {
  "kernelspec": {
   "display_name": "Python 3",
   "language": "python",
   "name": "python3"
  },
  "language_info": {
   "codemirror_mode": {
    "name": "ipython",
    "version": 3
   },
   "file_extension": ".py",
   "mimetype": "text/x-python",
   "name": "python",
   "nbconvert_exporter": "python",
   "pygments_lexer": "ipython3",
   "version": "3.9.5"
  }
 },
 "nbformat": 4,
 "nbformat_minor": 5
}
