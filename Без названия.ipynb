{
 "cells": [
  {
   "cell_type": "code",
   "execution_count": 1,
   "id": "ca32b426",
   "metadata": {},
   "outputs": [
    {
     "name": "stdout",
     "output_type": "stream",
     "text": [
      "106\n"
     ]
    }
   ],
   "source": [
    "#16\n",
    "def F(n):\n",
    "    if n==0:\n",
    "        return 0\n",
    "    if n%3>0:\n",
    "        return n+F(n-(n%3))\n",
    "    if n>0 and n%3==0:\n",
    "        return n+F(n-3)\n",
    "print (F(22))"
   ]
  },
  {
   "cell_type": "code",
   "execution_count": 2,
   "id": "eda37a3b",
   "metadata": {},
   "outputs": [
    {
     "name": "stdout",
     "output_type": "stream",
     "text": [
      "28 11305\n"
     ]
    }
   ],
   "source": [
    "#17\n",
    "count=0\n",
    "minimum=50000\n",
    "for i in range (11000, 22001):\n",
    "    if (i%17==0) and (i%19==0) and (i%11!=0) and (i%13!=0):\n",
    "        count+=1\n",
    "    if i<minimum and count>0:\n",
    "        minimum=i\n",
    "print (count, minimum)"
   ]
  },
  {
   "cell_type": "code",
   "execution_count": 3,
   "id": "be86fb71",
   "metadata": {},
   "outputs": [
    {
     "name": "stdout",
     "output_type": "stream",
     "text": [
      "318 120\n"
     ]
    }
   ],
   "source": [
    "#22\n",
    "a=1\n",
    "for x in range(1, 1000):\n",
    "    i=x\n",
    "    while(x>0):\n",
    "        a*=x%11\n",
    "        x=x//11        \n",
    "    if(a!=120):\n",
    "        a=1\n",
    "    else:\n",
    "        print(i, a)\n",
    "        break  "
   ]
  },
  {
   "cell_type": "code",
   "execution_count": 8,
   "id": "738145a2",
   "metadata": {},
   "outputs": [
    {
     "name": "stdout",
     "output_type": "stream",
     "text": [
      "G\n"
     ]
    }
   ],
   "source": [
    "#24\n",
    "count=0\n",
    "maxim=0\n",
    "with open('/Users/adeliapopova/Desktop/Var2stat/24.txt', 'r') as f:\n",
    "    data=f.read()\n",
    "set_data=set(data)\n",
    "for item in set_data:\n",
    "    for i in range(1, len(data)):\n",
    "        if data[i-1]=='A' and data[i]==item:\n",
    "            count+=1\n",
    "    if count>maxim:\n",
    "        maxim=count\n",
    "        ans=item\n",
    "    count=0\n",
    "print(ans)           "
   ]
  },
  {
   "cell_type": "code",
   "execution_count": 5,
   "id": "231d501d",
   "metadata": {},
   "outputs": [
    {
     "name": "stdout",
     "output_type": "stream",
     "text": [
      "1113840\n",
      "1179360\n",
      "1208844\n"
     ]
    }
   ],
   "source": [
    "#25\n",
    "count=0\n",
    "for i in range(1000000, 2000001):\n",
    "    for j in range(1, round(i**0.5)):\n",
    "        if(i%j==0):\n",
    "            if(i//j-j<=100):\n",
    "                 count+=1\n",
    "    if(count>=3):\n",
    "        print(i)\n",
    "    count=0\n",
    "       \n",
    "    "
   ]
  },
  {
   "cell_type": "code",
   "execution_count": 6,
   "id": "392f0071",
   "metadata": {},
   "outputs": [
    {
     "name": "stdout",
     "output_type": "stream",
     "text": [
      "123 10000\n"
     ]
    }
   ],
   "source": [
    "count=0\n",
    "with open('/Users/adeliapopova/Desktop/Var2stat/26.txt', 'r') as f:\n",
    "    data=f.read().replace('\\n', ' ').split()\n",
    "n=int(data[0])\n",
    "s=int(data[1])\n",
    "a=[]\n",
    "summa= 0\n",
    "count= 0\n",
    "for j in range(2, len(data)):\n",
    "    if ((int(data[j])>= 200) and (int(data[j]) <= 210) and (summa + int(data[j]) <= s)):\n",
    "        summa = summa + int(data[j])\n",
    "        count = count + 1\n",
    "    if int(data[j])<200 or int(data[j])>210:\n",
    "        a.append(int(data[j]))\n",
    "    \n",
    "for i in range(0, len(a)):#sorting\n",
    "    for j in range(i, len(a)):\n",
    "        if int(a[i]) > int(a[j]):\n",
    "            t = a[i]\n",
    "            a[i] = a[j]\n",
    "            a[j] = t\n",
    "            \n",
    "maxi = 1\n",
    "for i in range(0, len(a)): \n",
    "    if(summa + int(a[i]) <= s):\n",
    "        summa= summa + int(a[i])\n",
    "        count= count + 1\n",
    "        maxi= i#max weight number\n",
    "for j in reversed(range(0, maxi+1)):\n",
    "    for i in range(maxi, len(a)):   \n",
    "        if summa - int(a[j])+int(a[i])<=s:\n",
    "            summa=summa - int(a[j]) + int(a[i])\n",
    "        \n",
    "    \n",
    "print(count, summa)\n"
   ]
  },
  {
   "cell_type": "code",
   "execution_count": 7,
   "id": "c37ef1c9",
   "metadata": {},
   "outputs": [
    {
     "name": "stdout",
     "output_type": "stream",
     "text": [
      "300199428\n"
     ]
    }
   ],
   "source": [
    "#27\n",
    "with open('/Users/adeliapopova/Desktop/Var2stat/27-B.txt', 'r') as f:\n",
    "    data=f.read().replace('\\n', ' ').split()\n",
    "sum_Ans=0\n",
    "sum_1=0\n",
    "sum_2=0\n",
    "a=[]\n",
    "minim_D=30001\n",
    "for i in range(0, len(data)):\n",
    "    a.append(int(data[i]))\n",
    "for i in range(len(a)):\n",
    "    if(i!=0 and i%3==0):\n",
    "        troika=[a[i], a[i-1], a[i-2]]\n",
    "        m=troika.index(max(troika))\n",
    "        sum_Ans+=troika[m]\n",
    "        D=troika[m]\n",
    "        troika.remove(troika[m])\n",
    "        sum_1+=troika[0]\n",
    "        if(D-troika[0]<minim_D and D-troika[0]%2==1):\n",
    "            minim_D=D-troika[0]\n",
    "        sum_2+=troika[1]\n",
    "        if D-troika[1]<minim_D and D-troika[1]%2==1:\n",
    "            minim_D=D-troika[1]\n",
    "            \n",
    "if(sum_1%2==sum_2%2):\n",
    "    sum_Ans=sum_Ans-minim_D   \n",
    "print(sum_Ans)     "
   ]
  },
  {
   "cell_type": "code",
   "execution_count": null,
   "id": "71a3e215",
   "metadata": {},
   "outputs": [],
   "source": []
  }
 ],
 "metadata": {
  "kernelspec": {
   "display_name": "Python 3",
   "language": "python",
   "name": "python3"
  },
  "language_info": {
   "codemirror_mode": {
    "name": "ipython",
    "version": 3
   },
   "file_extension": ".py",
   "mimetype": "text/x-python",
   "name": "python",
   "nbconvert_exporter": "python",
   "pygments_lexer": "ipython3",
   "version": "3.9.5"
  }
 },
 "nbformat": 4,
 "nbformat_minor": 5
}
