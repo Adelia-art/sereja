{
 "cells": [
  {
   "cell_type": "markdown",
   "id": "197b8ce9",
   "metadata": {},
   "source": [
    "# 24 задача"
   ]
  },
  {
   "cell_type": "markdown",
   "id": "82ee150b",
   "metadata": {},
   "source": [
    "1. Текстовый файл состоит не более чем из 106 символов X, Y и Z. Определите максимальное количество идущих подряд символов, среди которых каждые два соседних различны."
   ]
  },
  {
   "cell_type": "code",
   "execution_count": 1,
   "id": "ba223276",
   "metadata": {},
   "outputs": [
    {
     "name": "stdout",
     "output_type": "stream",
     "text": [
      "35\n"
     ]
    }
   ],
   "source": [
    "count=0\n",
    "jupyter=0\n",
    "with open('/Users/adeliapopova/Downloads/24_1.txt','r') as f:\n",
    "    data=f.read()\n",
    "for i in range(1, len(data)-1):\n",
    "    if (data[i-1]!=data[i]) and (data[i]!=data[i+1]):\n",
    "        count+=1\n",
    "        if count>jupyter:\n",
    "            jupyter=count\n",
    "    else:\n",
    "        count=0\n",
    "print(jupyter+2)"
   ]
  },
  {
   "cell_type": "markdown",
   "id": "00279afa",
   "metadata": {},
   "source": [
    "2. Текстовый файл состоит не более чем из 106 символов X, Y и Z. Определите длину самой длинной последовательности, состоящей из символов X. Хотя бы один символ X находится в последовательности."
   ]
  },
  {
   "cell_type": "code",
   "execution_count": 2,
   "id": "38420235",
   "metadata": {},
   "outputs": [
    {
     "name": "stdout",
     "output_type": "stream",
     "text": [
      "19\n"
     ]
    }
   ],
   "source": [
    "count=0\n",
    "sos=0\n",
    "with open('/Users/adeliapopova/Downloads/24_2.txt','r') as f:\n",
    "    data=f.read()\n",
    "for i in range(1, len(data)):\n",
    "    if (data[i-1]=='X') and (data[i]=='X'):\n",
    "        count+=1\n",
    "        if count>sos:\n",
    "            sos=count\n",
    "    else:\n",
    "        count=0\n",
    "print(sos+1)"
   ]
  },
  {
   "cell_type": "markdown",
   "id": "6f4ade26",
   "metadata": {},
   "source": [
    "3. Текстовый файл состоит не более чем из 106 символов X, Y и Z. Определите максимальную длину цепочки вида XYZXYZXYZ... (составленной из фрагментов XYZ, последний фрагмент может быть неполным)."
   ]
  },
  {
   "cell_type": "code",
   "execution_count": 3,
   "id": "d05e656d",
   "metadata": {},
   "outputs": [
    {
     "name": "stdout",
     "output_type": "stream",
     "text": [
      "13\n"
     ]
    }
   ],
   "source": [
    "count=0\n",
    "xer=0\n",
    "with open('/Users/adeliapopova/Downloads/24_3.txt','r') as f:\n",
    "    data=f.read()\n",
    "for i in range(1, len(data)-1):\n",
    "    if (data[i-1]!=data[i]) and (data[i]!=data[i+1]) and (data[i+1]!=data[i-1]):\n",
    "        count+=1\n",
    "        if count>xer:\n",
    "            xer=count\n",
    "    else:\n",
    "        count=0\n",
    "print(xer+2)"
   ]
  },
  {
   "cell_type": "markdown",
   "id": "7209e245",
   "metadata": {},
   "source": [
    "4.Текстовый файл содержит строки различной длины. Общий объём файла не превышает 1 Мбайт. Строки содержат только заглавные буквы латинского алфавита (ABC…Z). Определите количество строк, в которых буква E встречается чаще, чем буква A."
   ]
  },
  {
   "cell_type": "code",
   "execution_count": 42,
   "id": "6fda6001",
   "metadata": {},
   "outputs": [
    {
     "name": "stdout",
     "output_type": "stream",
     "text": [
      "467\n"
     ]
    }
   ],
   "source": [
    "count=0\n",
    "E=0\n",
    "A=0\n",
    "file=open('/Users/adeliapopova/Downloads/24_4.txt','r')\n",
    "while True:\n",
    "    line=file.readline()\n",
    "    if not line:\n",
    "        break\n",
    "    for i in range(0, len(line)):\n",
    "        if line[i]=='A':\n",
    "            A+=1\n",
    "        if line[i]=='E':\n",
    "            E+=1\n",
    "    if E>A:\n",
    "        count+=1\n",
    "    E=0\n",
    "    A=0\n",
    "print(count)"
   ]
  },
  {
   "cell_type": "markdown",
   "id": "6e155add",
   "metadata": {},
   "source": [
    "5. Текстовый файл содержит строки различной длины. Общий объём файла не превышает 1 Мбайт. Строки содержат только заглавные буквы латинского алфавита (ABC…Z).\n",
    "Необходимо найти строку, содержащую наименьшее количество букв G (если таких строк несколько, надо взять ту, которая находится в файле раньше), и определить, какая буква встречается в этой строке чаще всего. Если таких букв несколько, надо взять ту, которая позже стоит в алфавите."
   ]
  },
  {
   "cell_type": "code",
   "execution_count": 41,
   "id": "e2a25477",
   "metadata": {},
   "outputs": [
    {
     "name": "stdout",
     "output_type": "stream",
     "text": [
      "T\n"
     ]
    }
   ],
   "source": [
    "count=0\n",
    "minim=10000000000000000000000000\n",
    "maxim=-1\n",
    "G=0\n",
    "ans='$'\n",
    "file=open('/Users/adeliapopova/Downloads/24_5.txt','r')\n",
    "while True:\n",
    "    line=file.readline()\n",
    "    if not line:\n",
    "        break\n",
    "    for i in range(0,len(line)):\n",
    "        if line[i]=='G':\n",
    "            G+=1\n",
    "    if G<minim:\n",
    "        minim=G\n",
    "    G=0\n",
    "file1=open('/Users/adeliapopova/Downloads/24_5.txt','r')\n",
    "while True: \n",
    "    line=file1.readline()\n",
    "    if not line:\n",
    "        break\n",
    "    for i in range(0,len(line)):\n",
    "        if line[i]=='G':\n",
    "            G+=1\n",
    "    line_set=set(line)\n",
    "    if G==minim:\n",
    "        for item in sorted(line_set):\n",
    "            if line.count(item)>=maxim:\n",
    "                maxim=line.count(item)\n",
    "                ans=item\n",
    "        break\n",
    "    G=0\n",
    "print(ans)"
   ]
  },
  {
   "cell_type": "markdown",
   "id": "58099315",
   "metadata": {},
   "source": [
    "6.Текстовый файл содержит строки различной длины. Общий объём файла не превышает 1 Мбайт. Строки содержат только заглавные буквы латинского алфавита (ABC…Z).\n",
    "\n",
    "В строках, содержащих менее 25 букв A, нужно определить и вывести максимальное расстояние между одинаковыми буквами в одной строке."
   ]
  },
  {
   "cell_type": "code",
   "execution_count": 64,
   "id": "814ffca0",
   "metadata": {},
   "outputs": [
    {
     "name": "stdout",
     "output_type": "stream",
     "text": [
      "1004\n"
     ]
    }
   ],
   "source": [
    "A=0\n",
    "maxim=0\n",
    "ans=0\n",
    "file=open('/Users/adeliapopova/Downloads/24_6.txt','r')\n",
    "while True:\n",
    "    line=file.readline()\n",
    "    if not line:\n",
    "        break\n",
    "    for i in range(0, len(line)):\n",
    "        if line[i]=='A':\n",
    "            A+=1\n",
    "    if(A<25):\n",
    "        line_set=set(line)\n",
    "        for item in line_set:\n",
    "            if(line.count(item)>=2):\n",
    "                length=line.rindex(item)-line.index(item)\n",
    "                if(length>maxim):\n",
    "                    maxim=length\n",
    "    A=0\n",
    "print(maxim)"
   ]
  },
  {
   "cell_type": "markdown",
   "id": "4a7b0bba",
   "metadata": {},
   "source": [
    "7. Текстовый файл состоит не более чем из 1 200 000 символов X, Y, и Z. Определите максимальное количество идущих подряд символов, среди которых нет подстроки XZZY. "
   ]
  },
  {
   "cell_type": "code",
   "execution_count": 71,
   "id": "fba8adb1",
   "metadata": {},
   "outputs": [
    {
     "name": "stdout",
     "output_type": "stream",
     "text": [
      "1713\n"
     ]
    }
   ],
   "source": [
    "count=0\n",
    "maxim=0\n",
    "with open('/Users/adeliapopova/Downloads/24_7.txt', 'r') as f:\n",
    "    data=f.read()\n",
    "for i in range(0, len(data)-3):\n",
    "    if data[i]=='X' and data[i+1]=='Z' and data[i+2]=='Z' and data[i+3]=='Y':\n",
    "        if(count>maxim):\n",
    "            maxim=count\n",
    "        count=3\n",
    "    else:\n",
    "        count+=1\n",
    "print(maxim)"
   ]
  },
  {
   "cell_type": "markdown",
   "id": "9ef0667f",
   "metadata": {},
   "source": [
    "8.Текстовый файл содержит только заглавные буквы латинского алфавита (ABC…Z). Определите символ, который чаще всего встречается в файле сразу после буквы A."
   ]
  },
  {
   "cell_type": "code",
   "execution_count": 72,
   "id": "c7821fdb",
   "metadata": {},
   "outputs": [
    {
     "name": "stdout",
     "output_type": "stream",
     "text": [
      "G\n"
     ]
    }
   ],
   "source": [
    "count=0\n",
    "maxim=0\n",
    "with open('/Users/adeliapopova/Desktop/Var2stat/24.txt', 'r') as f:\n",
    "    data=f.read()\n",
    "set_data=set(data)\n",
    "for item in set_data:\n",
    "    for i in range(1, len(data)):\n",
    "        if data[i-1]=='A' and data[i]==item:\n",
    "            count+=1\n",
    "    if count>maxim:\n",
    "        maxim=count\n",
    "        ans=item\n",
    "    count=0\n",
    "print(ans) "
   ]
  },
  {
   "cell_type": "code",
   "execution_count": null,
   "id": "8c0f13e3",
   "metadata": {},
   "outputs": [],
   "source": []
  }
 ],
 "metadata": {
  "kernelspec": {
   "display_name": "Python 3",
   "language": "python",
   "name": "python3"
  },
  "language_info": {
   "codemirror_mode": {
    "name": "ipython",
    "version": 3
   },
   "file_extension": ".py",
   "mimetype": "text/x-python",
   "name": "python",
   "nbconvert_exporter": "python",
   "pygments_lexer": "ipython3",
   "version": "3.9.5"
  }
 },
 "nbformat": 4,
 "nbformat_minor": 5
}
